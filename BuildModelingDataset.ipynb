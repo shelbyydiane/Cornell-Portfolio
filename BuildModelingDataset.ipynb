{
 "cells": [
  {
   "cell_type": "markdown",
   "metadata": {},
   "source": [
    "# Assignment 2: Preparing a Data Set for Modeling"
   ]
  },
  {
   "cell_type": "code",
   "execution_count": 2,
   "metadata": {},
   "outputs": [],
   "source": [
    "import os\n",
    "import pandas as pd\n",
    "import numpy as np\n",
    "%matplotlib inline\n",
    "import matplotlib.pyplot as plt \n",
    "import seaborn as sns"
   ]
  },
  {
   "cell_type": "markdown",
   "metadata": {},
   "source": [
    "In this assignment, you will practice the second and third steps of the machine learning life cycle and begin preparing data so that it can be used to train a machine learning model that solves a regression problem. Note that by the end of the exercise, your data set wont be completely ready for the modeling phase, but you will gain experience using some common data preparation techniques. You will complete the following tasks to transform your data:\n",
    "\n",
    "1. Build your data matrix (DataFrame) and define your ML Problem:\n",
    "    * Load the \"Census Income\" data set into a DataFrame and inspect the data\n",
    "    * Define the label - what are you predicting?\n",
    "    * Identify features\n",
    "2. Clean your data:\n",
    "    * Handle outliers by building a new regression label column by winsorizing outliers\n",
    "    * Handle missing data by replacing all missing values in the dataset with means\n",
    "3. Explore your data:\n",
    "    * Identify two features with the highest correlation with label\n",
    "    * Build appropriate bivariate plots to visualize the correlations between features and the label \n",
    "4. Analysis:\n",
    "    * Analyze feature engineering techniques that should be used to prepare the data for modeling"
   ]
  },
  {
   "cell_type": "markdown",
   "metadata": {},
   "source": [
    "## Part 1. Build Your Data Matrix (DataFrame) and Define Your ML Problem\n",
    "\n",
    "<b>Note</b>: for the purpose of this course, we will use data matrix and DataFrame interchangeably. "
   ]
  },
  {
   "cell_type": "markdown",
   "metadata": {},
   "source": [
    "####  Load a Data Set and Save it as a Pandas DataFrame\n",
    "\n",
    "So far, in these exercises, we have been using a small subset of the \"Census income\" dataset. We will now use a version that has a substantially greater number of rows, but the same number of columns as before. You will see this reflected when you print out the dimensions of your DataFrame after you load your data."
   ]
  },
  {
   "cell_type": "markdown",
   "metadata": {},
   "source": [
    "Use the specified file name to load the data. Save it as a Pandas DataFrame called `df`."
   ]
  },
  {
   "cell_type": "markdown",
   "metadata": {},
   "source": [
    "**Task**: Read in the data using the `pd.read_csv()` function and save it to DataFrame `df`. <i>Note<i>: use the variable `filename` in your call to `pd.read_csv()`."
   ]
  },
  {
   "cell_type": "code",
   "execution_count": 3,
   "metadata": {},
   "outputs": [],
   "source": [
    "# Do not remove or edit the line below:\n",
    "filename = os.path.join(os.getcwd(), \"data\", \"censusData.csv\")"
   ]
  },
  {
   "cell_type": "code",
   "execution_count": 4,
   "metadata": {},
   "outputs": [],
   "source": [
    "df = pd.read_csv(filename)"
   ]
  },
  {
   "cell_type": "markdown",
   "metadata": {},
   "source": [
    "#### Inspect the Data"
   ]
  },
  {
   "cell_type": "markdown",
   "metadata": {},
   "source": [
    "**Task**: Display the shape of `df` -- that is, the number of rows and columns."
   ]
  },
  {
   "cell_type": "code",
   "execution_count": 9,
   "metadata": {},
   "outputs": [
    {
     "data": {
      "text/plain": [
       "(32561, 15)"
      ]
     },
     "execution_count": 9,
     "metadata": {},
     "output_type": "execute_result"
    }
   ],
   "source": [
    "df.shape"
   ]
  },
  {
   "cell_type": "markdown",
   "metadata": {},
   "source": [
    "*Check your work*: while we used a small subset of the Census dataset in the exercises, the dataset that we are using now has a substantially greater number of rows, but the same number of columns as before. You should see this reflected when you print out the dimensions of DataFrame `df`."
   ]
  },
  {
   "cell_type": "markdown",
   "metadata": {},
   "source": [
    "**Task**: Get a peek of the data by displaying the first few rows, as you usually do."
   ]
  },
  {
   "cell_type": "code",
   "execution_count": 7,
   "metadata": {},
   "outputs": [
    {
     "data": {
      "text/html": [
       "<div>\n",
       "<style scoped>\n",
       "    .dataframe tbody tr th:only-of-type {\n",
       "        vertical-align: middle;\n",
       "    }\n",
       "\n",
       "    .dataframe tbody tr th {\n",
       "        vertical-align: top;\n",
       "    }\n",
       "\n",
       "    .dataframe thead th {\n",
       "        text-align: right;\n",
       "    }\n",
       "</style>\n",
       "<table border=\"1\" class=\"dataframe\">\n",
       "  <thead>\n",
       "    <tr style=\"text-align: right;\">\n",
       "      <th></th>\n",
       "      <th>age</th>\n",
       "      <th>workclass</th>\n",
       "      <th>fnlwgt</th>\n",
       "      <th>education</th>\n",
       "      <th>education-num</th>\n",
       "      <th>marital-status</th>\n",
       "      <th>occupation</th>\n",
       "      <th>relationship</th>\n",
       "      <th>race</th>\n",
       "      <th>sex_selfID</th>\n",
       "      <th>capital-gain</th>\n",
       "      <th>capital-loss</th>\n",
       "      <th>hours-per-week</th>\n",
       "      <th>native-country</th>\n",
       "      <th>income</th>\n",
       "    </tr>\n",
       "  </thead>\n",
       "  <tbody>\n",
       "    <tr>\n",
       "      <th>0</th>\n",
       "      <td>39.0</td>\n",
       "      <td>State-gov</td>\n",
       "      <td>77516</td>\n",
       "      <td>Bachelors</td>\n",
       "      <td>13</td>\n",
       "      <td>Never-married</td>\n",
       "      <td>Adm-clerical</td>\n",
       "      <td>Not-in-family</td>\n",
       "      <td>White</td>\n",
       "      <td>Non-Female</td>\n",
       "      <td>2174</td>\n",
       "      <td>0</td>\n",
       "      <td>40.0</td>\n",
       "      <td>United-States</td>\n",
       "      <td>&lt;=50K</td>\n",
       "    </tr>\n",
       "    <tr>\n",
       "      <th>1</th>\n",
       "      <td>50.0</td>\n",
       "      <td>Self-emp-not-inc</td>\n",
       "      <td>83311</td>\n",
       "      <td>Bachelors</td>\n",
       "      <td>13</td>\n",
       "      <td>Married-civ-spouse</td>\n",
       "      <td>Exec-managerial</td>\n",
       "      <td>Husband</td>\n",
       "      <td>White</td>\n",
       "      <td>Non-Female</td>\n",
       "      <td>0</td>\n",
       "      <td>0</td>\n",
       "      <td>13.0</td>\n",
       "      <td>United-States</td>\n",
       "      <td>&lt;=50K</td>\n",
       "    </tr>\n",
       "    <tr>\n",
       "      <th>2</th>\n",
       "      <td>38.0</td>\n",
       "      <td>Private</td>\n",
       "      <td>215646</td>\n",
       "      <td>HS-grad</td>\n",
       "      <td>9</td>\n",
       "      <td>Divorced</td>\n",
       "      <td>Handlers-cleaners</td>\n",
       "      <td>Not-in-family</td>\n",
       "      <td>White</td>\n",
       "      <td>Non-Female</td>\n",
       "      <td>0</td>\n",
       "      <td>0</td>\n",
       "      <td>40.0</td>\n",
       "      <td>United-States</td>\n",
       "      <td>&lt;=50K</td>\n",
       "    </tr>\n",
       "    <tr>\n",
       "      <th>3</th>\n",
       "      <td>53.0</td>\n",
       "      <td>Private</td>\n",
       "      <td>234721</td>\n",
       "      <td>11th</td>\n",
       "      <td>7</td>\n",
       "      <td>Married-civ-spouse</td>\n",
       "      <td>Handlers-cleaners</td>\n",
       "      <td>Husband</td>\n",
       "      <td>Black</td>\n",
       "      <td>Non-Female</td>\n",
       "      <td>0</td>\n",
       "      <td>0</td>\n",
       "      <td>40.0</td>\n",
       "      <td>United-States</td>\n",
       "      <td>&lt;=50K</td>\n",
       "    </tr>\n",
       "    <tr>\n",
       "      <th>4</th>\n",
       "      <td>28.0</td>\n",
       "      <td>Private</td>\n",
       "      <td>338409</td>\n",
       "      <td>Bachelors</td>\n",
       "      <td>13</td>\n",
       "      <td>Married-civ-spouse</td>\n",
       "      <td>Prof-specialty</td>\n",
       "      <td>Wife</td>\n",
       "      <td>Black</td>\n",
       "      <td>Female</td>\n",
       "      <td>0</td>\n",
       "      <td>0</td>\n",
       "      <td>40.0</td>\n",
       "      <td>Cuba</td>\n",
       "      <td>&lt;=50K</td>\n",
       "    </tr>\n",
       "  </tbody>\n",
       "</table>\n",
       "</div>"
      ],
      "text/plain": [
       "    age         workclass  fnlwgt  education  education-num  \\\n",
       "0  39.0         State-gov   77516  Bachelors             13   \n",
       "1  50.0  Self-emp-not-inc   83311  Bachelors             13   \n",
       "2  38.0           Private  215646    HS-grad              9   \n",
       "3  53.0           Private  234721       11th              7   \n",
       "4  28.0           Private  338409  Bachelors             13   \n",
       "\n",
       "       marital-status         occupation   relationship   race  sex_selfID  \\\n",
       "0       Never-married       Adm-clerical  Not-in-family  White  Non-Female   \n",
       "1  Married-civ-spouse    Exec-managerial        Husband  White  Non-Female   \n",
       "2            Divorced  Handlers-cleaners  Not-in-family  White  Non-Female   \n",
       "3  Married-civ-spouse  Handlers-cleaners        Husband  Black  Non-Female   \n",
       "4  Married-civ-spouse     Prof-specialty           Wife  Black      Female   \n",
       "\n",
       "   capital-gain  capital-loss  hours-per-week native-country income  \n",
       "0          2174             0            40.0  United-States  <=50K  \n",
       "1             0             0            13.0  United-States  <=50K  \n",
       "2             0             0            40.0  United-States  <=50K  \n",
       "3             0             0            40.0  United-States  <=50K  \n",
       "4             0             0            40.0           Cuba  <=50K  "
      ]
     },
     "execution_count": 7,
     "metadata": {},
     "output_type": "execute_result"
    }
   ],
   "source": [
    "df.head()"
   ]
  },
  {
   "cell_type": "markdown",
   "metadata": {
    "collapsed": true
   },
   "source": [
    "#### Define the Label"
   ]
  },
  {
   "cell_type": "markdown",
   "metadata": {},
   "source": [
    "Assume that your goal is to train a machine learning model that predicts the number of years of education that a person has had. This is an example of supervised learning and is a regression problem; it requires a label that contains real or continuous numbers. In our dataset, our label will be the `education-num` column. Let's inspect the values in the `education-num` column."
   ]
  },
  {
   "cell_type": "code",
   "execution_count": 10,
   "metadata": {},
   "outputs": [
    {
     "data": {
      "text/plain": [
       "0        13\n",
       "1        13\n",
       "2         9\n",
       "3         7\n",
       "4        13\n",
       "         ..\n",
       "32556    12\n",
       "32557     9\n",
       "32558     9\n",
       "32559     9\n",
       "32560     9\n",
       "Name: education-num, Length: 32561, dtype: int64"
      ]
     },
     "execution_count": 10,
     "metadata": {},
     "output_type": "execute_result"
    }
   ],
   "source": [
    "df['education-num']"
   ]
  },
  {
   "cell_type": "markdown",
   "metadata": {},
   "source": [
    "#### Identify Features"
   ]
  },
  {
   "cell_type": "markdown",
   "metadata": {},
   "source": [
    "For now, our features will be all of the remaining columns in the dataset. \n",
    "\n",
    "**Task**: In the code cell below, create a list containing the features in the dataset."
   ]
  },
  {
   "cell_type": "code",
   "execution_count": 11,
   "metadata": {},
   "outputs": [],
   "source": [
    "features = ['age', 'workclass', 'fnlwgt', 'education', 'marital-status', 'occupation', 'relationship', 'race', 'sex_selfID', 'capital-gain', 'capital-loss', 'hours-per-week', 'native-country', 'income']"
   ]
  },
  {
   "cell_type": "markdown",
   "metadata": {},
   "source": [
    "## Part 2. Clean Your Data"
   ]
  },
  {
   "cell_type": "markdown",
   "metadata": {},
   "source": [
    "Part of data preparation involves cleaning \"dirty\" data. Two common data cleaning techniques involve the handling of outliers and missing data."
   ]
  },
  {
   "cell_type": "markdown",
   "metadata": {},
   "source": [
    "### a. Handle Outliers\n",
    "\n",
    "Let us prepare the data in our label column. Namely, we will detect and replace outliers in the data using winsorization.\n",
    "\n",
    "We will create a new version of the `education-num` column, in which we replace the outlier values of `education-num` (on both sides of the range -- the low end as well as the high end). We will replace the outliers with the corresponding percentile value, as we did in the exercises. That is, if we wish to replace any value below, say, the 1.234-th percentile, we shall replace all such values by the exact same value in our data -- the value such that 1.234% of data lies below it."
   ]
  },
  {
   "cell_type": "markdown",
   "metadata": {},
   "source": [
    "We will need to import the `stats` module from the `scipy` package:"
   ]
  },
  {
   "cell_type": "code",
   "execution_count": 12,
   "metadata": {},
   "outputs": [],
   "source": [
    "import scipy.stats as stats"
   ]
  },
  {
   "cell_type": "markdown",
   "metadata": {},
   "source": [
    "**Task**: Create a new column, titled `education_years` by winsorizing the `education-num` column with the top and bottom 1% percentile values."
   ]
  },
  {
   "cell_type": "code",
   "execution_count": 14,
   "metadata": {},
   "outputs": [],
   "source": [
    "df['education_years'] = stats.mstats.winsorize(df['education-num'], limits=[0.01, 0.01]) "
   ]
  },
  {
   "cell_type": "markdown",
   "metadata": {},
   "source": [
    "Let's verify that a new column got added to the DataFrame:"
   ]
  },
  {
   "cell_type": "code",
   "execution_count": 15,
   "metadata": {},
   "outputs": [
    {
     "data": {
      "text/html": [
       "<div>\n",
       "<style scoped>\n",
       "    .dataframe tbody tr th:only-of-type {\n",
       "        vertical-align: middle;\n",
       "    }\n",
       "\n",
       "    .dataframe tbody tr th {\n",
       "        vertical-align: top;\n",
       "    }\n",
       "\n",
       "    .dataframe thead th {\n",
       "        text-align: right;\n",
       "    }\n",
       "</style>\n",
       "<table border=\"1\" class=\"dataframe\">\n",
       "  <thead>\n",
       "    <tr style=\"text-align: right;\">\n",
       "      <th></th>\n",
       "      <th>age</th>\n",
       "      <th>workclass</th>\n",
       "      <th>fnlwgt</th>\n",
       "      <th>education</th>\n",
       "      <th>education-num</th>\n",
       "      <th>marital-status</th>\n",
       "      <th>occupation</th>\n",
       "      <th>relationship</th>\n",
       "      <th>race</th>\n",
       "      <th>sex_selfID</th>\n",
       "      <th>capital-gain</th>\n",
       "      <th>capital-loss</th>\n",
       "      <th>hours-per-week</th>\n",
       "      <th>native-country</th>\n",
       "      <th>income</th>\n",
       "      <th>education_years</th>\n",
       "    </tr>\n",
       "  </thead>\n",
       "  <tbody>\n",
       "    <tr>\n",
       "      <th>0</th>\n",
       "      <td>39.0</td>\n",
       "      <td>State-gov</td>\n",
       "      <td>77516</td>\n",
       "      <td>Bachelors</td>\n",
       "      <td>13</td>\n",
       "      <td>Never-married</td>\n",
       "      <td>Adm-clerical</td>\n",
       "      <td>Not-in-family</td>\n",
       "      <td>White</td>\n",
       "      <td>Non-Female</td>\n",
       "      <td>2174</td>\n",
       "      <td>0</td>\n",
       "      <td>40.0</td>\n",
       "      <td>United-States</td>\n",
       "      <td>&lt;=50K</td>\n",
       "      <td>13</td>\n",
       "    </tr>\n",
       "    <tr>\n",
       "      <th>1</th>\n",
       "      <td>50.0</td>\n",
       "      <td>Self-emp-not-inc</td>\n",
       "      <td>83311</td>\n",
       "      <td>Bachelors</td>\n",
       "      <td>13</td>\n",
       "      <td>Married-civ-spouse</td>\n",
       "      <td>Exec-managerial</td>\n",
       "      <td>Husband</td>\n",
       "      <td>White</td>\n",
       "      <td>Non-Female</td>\n",
       "      <td>0</td>\n",
       "      <td>0</td>\n",
       "      <td>13.0</td>\n",
       "      <td>United-States</td>\n",
       "      <td>&lt;=50K</td>\n",
       "      <td>13</td>\n",
       "    </tr>\n",
       "    <tr>\n",
       "      <th>2</th>\n",
       "      <td>38.0</td>\n",
       "      <td>Private</td>\n",
       "      <td>215646</td>\n",
       "      <td>HS-grad</td>\n",
       "      <td>9</td>\n",
       "      <td>Divorced</td>\n",
       "      <td>Handlers-cleaners</td>\n",
       "      <td>Not-in-family</td>\n",
       "      <td>White</td>\n",
       "      <td>Non-Female</td>\n",
       "      <td>0</td>\n",
       "      <td>0</td>\n",
       "      <td>40.0</td>\n",
       "      <td>United-States</td>\n",
       "      <td>&lt;=50K</td>\n",
       "      <td>9</td>\n",
       "    </tr>\n",
       "    <tr>\n",
       "      <th>3</th>\n",
       "      <td>53.0</td>\n",
       "      <td>Private</td>\n",
       "      <td>234721</td>\n",
       "      <td>11th</td>\n",
       "      <td>7</td>\n",
       "      <td>Married-civ-spouse</td>\n",
       "      <td>Handlers-cleaners</td>\n",
       "      <td>Husband</td>\n",
       "      <td>Black</td>\n",
       "      <td>Non-Female</td>\n",
       "      <td>0</td>\n",
       "      <td>0</td>\n",
       "      <td>40.0</td>\n",
       "      <td>United-States</td>\n",
       "      <td>&lt;=50K</td>\n",
       "      <td>7</td>\n",
       "    </tr>\n",
       "    <tr>\n",
       "      <th>4</th>\n",
       "      <td>28.0</td>\n",
       "      <td>Private</td>\n",
       "      <td>338409</td>\n",
       "      <td>Bachelors</td>\n",
       "      <td>13</td>\n",
       "      <td>Married-civ-spouse</td>\n",
       "      <td>Prof-specialty</td>\n",
       "      <td>Wife</td>\n",
       "      <td>Black</td>\n",
       "      <td>Female</td>\n",
       "      <td>0</td>\n",
       "      <td>0</td>\n",
       "      <td>40.0</td>\n",
       "      <td>Cuba</td>\n",
       "      <td>&lt;=50K</td>\n",
       "      <td>13</td>\n",
       "    </tr>\n",
       "  </tbody>\n",
       "</table>\n",
       "</div>"
      ],
      "text/plain": [
       "    age         workclass  fnlwgt  education  education-num  \\\n",
       "0  39.0         State-gov   77516  Bachelors             13   \n",
       "1  50.0  Self-emp-not-inc   83311  Bachelors             13   \n",
       "2  38.0           Private  215646    HS-grad              9   \n",
       "3  53.0           Private  234721       11th              7   \n",
       "4  28.0           Private  338409  Bachelors             13   \n",
       "\n",
       "       marital-status         occupation   relationship   race  sex_selfID  \\\n",
       "0       Never-married       Adm-clerical  Not-in-family  White  Non-Female   \n",
       "1  Married-civ-spouse    Exec-managerial        Husband  White  Non-Female   \n",
       "2            Divorced  Handlers-cleaners  Not-in-family  White  Non-Female   \n",
       "3  Married-civ-spouse  Handlers-cleaners        Husband  Black  Non-Female   \n",
       "4  Married-civ-spouse     Prof-specialty           Wife  Black      Female   \n",
       "\n",
       "   capital-gain  capital-loss  hours-per-week native-country income  \\\n",
       "0          2174             0            40.0  United-States  <=50K   \n",
       "1             0             0            13.0  United-States  <=50K   \n",
       "2             0             0            40.0  United-States  <=50K   \n",
       "3             0             0            40.0  United-States  <=50K   \n",
       "4             0             0            40.0           Cuba  <=50K   \n",
       "\n",
       "   education_years  \n",
       "0               13  \n",
       "1               13  \n",
       "2                9  \n",
       "3                7  \n",
       "4               13  "
      ]
     },
     "execution_count": 15,
     "metadata": {},
     "output_type": "execute_result"
    }
   ],
   "source": [
    "df.head()"
   ]
  },
  {
   "cell_type": "markdown",
   "metadata": {},
   "source": [
    "An interesting thing to think about: take a look at the data and notice that for the first five rows, the values of the `education-num` column and its winsorized version -- `education_years` -- are the same. Does this mean that winsorization did not work? Or are there discrepancies further down the list of rows, where we cannot see them?"
   ]
  },
  {
   "cell_type": "markdown",
   "metadata": {},
   "source": [
    "**Task**: Check that the values of `education-num` and `education_years` are *not* identical. You may do this by subtracting the two columns and then listing the unique values of the result. If you see values other than zero, it means *some* change did happen, as we would expect."
   ]
  },
  {
   "cell_type": "code",
   "execution_count": 17,
   "metadata": {},
   "outputs": [
    {
     "data": {
      "text/plain": [
       "array([ 0, -1, -2])"
      ]
     },
     "execution_count": 17,
     "metadata": {},
     "output_type": "execute_result"
    }
   ],
   "source": [
    "difference = df['education-num'] - df['education_years']\n",
    "unique_difference = difference.unique()\n",
    "unique_difference"
   ]
  },
  {
   "cell_type": "markdown",
   "metadata": {},
   "source": [
    "### b. Handle Missing Data\n",
    "\n",
    "Next, we are going to find missing values in our entire dataset and impute the missing values by\n",
    "replacing them with means. This process is a common task in feature engineering."
   ]
  },
  {
   "cell_type": "markdown",
   "metadata": {},
   "source": [
    "####  Identifying missingness"
   ]
  },
  {
   "cell_type": "markdown",
   "metadata": {},
   "source": [
    "**Task**: Check if a given value in any data cell is missing, and sum up the resulting values (`True`/`False`) by columns. Assign the results to variable `nan_count`. Print the results."
   ]
  },
  {
   "cell_type": "code",
   "execution_count": 18,
   "metadata": {},
   "outputs": [
    {
     "data": {
      "text/plain": [
       "age                 162\n",
       "workclass          1836\n",
       "fnlwgt                0\n",
       "education             0\n",
       "education-num         0\n",
       "marital-status        0\n",
       "occupation         1843\n",
       "relationship          0\n",
       "race                  0\n",
       "sex_selfID            0\n",
       "capital-gain          0\n",
       "capital-loss          0\n",
       "hours-per-week      325\n",
       "native-country      583\n",
       "income                0\n",
       "education_years       0\n",
       "dtype: int64"
      ]
     },
     "execution_count": 18,
     "metadata": {},
     "output_type": "execute_result"
    }
   ],
   "source": [
    "nan_count = np.sum(df.isnull(), axis = 0)\n",
    "\n",
    "nan_count"
   ]
  },
  {
   "cell_type": "markdown",
   "metadata": {},
   "source": [
    "Replacing the missing values with the mean only makes sense for the numerically valued columns (and not for strings). Hence, we will focus on the `age` and `hours-per-week` columns."
   ]
  },
  {
   "cell_type": "markdown",
   "metadata": {},
   "source": [
    "#### Keeping record of the missingness: creating dummy variables "
   ]
  },
  {
   "cell_type": "markdown",
   "metadata": {},
   "source": [
    "As a first step, you will now create dummy variables indicating missingness of the values."
   ]
  },
  {
   "cell_type": "markdown",
   "metadata": {},
   "source": [
    "**Task**: Store the `True`/`False` series that indicate missingness of any value in `age` as a new column called `age_na`. Store the `True`/`False` series that indicate missingness of every value of `hours-per-week` as a new column called `hours-per-week_na`."
   ]
  },
  {
   "cell_type": "code",
   "execution_count": 19,
   "metadata": {},
   "outputs": [],
   "source": [
    "df['age_na'] = df['age'].isnull()\n",
    "df['hours-per-week_na'] = df['hours-per-week'].isnull()"
   ]
  },
  {
   "cell_type": "markdown",
   "metadata": {},
   "source": [
    "#### Replacing the missing values with mean values of the column"
   ]
  },
  {
   "cell_type": "markdown",
   "metadata": {},
   "source": [
    "**Task**: Fill the missing values of the `age` and `hours-per-week` columns with the mean value of the corresponding columns."
   ]
  },
  {
   "cell_type": "code",
   "execution_count": 20,
   "metadata": {},
   "outputs": [],
   "source": [
    "mean_ages=df['age'].mean()\n",
    "df['age'].fillna(value=mean_ages, inplace=True)\n",
    "\n",
    "mean_hours_per_week=df['hours-per-week'].mean()\n",
    "df['hours-per-week'].fillna(value=mean_hours_per_week, inplace=True)"
   ]
  },
  {
   "cell_type": "markdown",
   "metadata": {},
   "source": [
    "<b>Task</b>: Check your results. Display the sum of missing values in the `age` column."
   ]
  },
  {
   "cell_type": "code",
   "execution_count": 21,
   "metadata": {},
   "outputs": [
    {
     "data": {
      "text/plain": [
       "0"
      ]
     },
     "execution_count": 21,
     "metadata": {},
     "output_type": "execute_result"
    }
   ],
   "source": [
    "np.sum(df['age'].isnull(), axis = 0)"
   ]
  },
  {
   "cell_type": "markdown",
   "metadata": {},
   "source": [
    "## Part 3. Explore Your Data \n",
    "\n",
    "You will now perform exploratory data analysis in preparation for selecting your features as part of feature engineering. So far we identified all columns in the dataset to serve as features, but not all features may be suitable for our machine learning problem. While feature engineering involves transforming your features into proper formats (e.g. transforming numerical data into binary values), it also includes selecting appropriate features for modeling. By exploring your data, you will identify trends, patterns, and interdependence among features and the label. This will enable you to choose the appropriate features to use for training your machine learning model."
   ]
  },
  {
   "cell_type": "markdown",
   "metadata": {},
   "source": [
    "#### Identify Correlations\n",
    "In particular, we will focus on identifying which features in the data have the highest correlation with the label. In the next few cells, we will demonstrate how to use Pandas `corr()` method to get a list of correlation coefficients between the `label` and all other numerical features.  To learn more about the `corr()` method, consult the online [documentation](https://pandas.pydata.org/docs/reference/api/pandas.DataFrame.corr.html)."
   ]
  },
  {
   "cell_type": "markdown",
   "metadata": {},
   "source": [
    "Let's first galnce at what the `corr()` method does:"
   ]
  },
  {
   "cell_type": "code",
   "execution_count": 22,
   "metadata": {},
   "outputs": [
    {
     "data": {
      "text/html": [
       "<div>\n",
       "<style scoped>\n",
       "    .dataframe tbody tr th:only-of-type {\n",
       "        vertical-align: middle;\n",
       "    }\n",
       "\n",
       "    .dataframe tbody tr th {\n",
       "        vertical-align: top;\n",
       "    }\n",
       "\n",
       "    .dataframe thead th {\n",
       "        text-align: right;\n",
       "    }\n",
       "</style>\n",
       "<table border=\"1\" class=\"dataframe\">\n",
       "  <thead>\n",
       "    <tr style=\"text-align: right;\">\n",
       "      <th></th>\n",
       "      <th>age</th>\n",
       "      <th>fnlwgt</th>\n",
       "      <th>education-num</th>\n",
       "      <th>capital-gain</th>\n",
       "      <th>capital-loss</th>\n",
       "      <th>hours-per-week</th>\n",
       "      <th>education_years</th>\n",
       "      <th>age_na</th>\n",
       "      <th>hours-per-week_na</th>\n",
       "    </tr>\n",
       "  </thead>\n",
       "  <tbody>\n",
       "    <tr>\n",
       "      <th>age</th>\n",
       "      <td>1.000000e+00</td>\n",
       "      <td>-0.076085</td>\n",
       "      <td>0.036685</td>\n",
       "      <td>0.124705</td>\n",
       "      <td>0.057478</td>\n",
       "      <td>6.657191e-02</td>\n",
       "      <td>0.038549</td>\n",
       "      <td>7.101579e-18</td>\n",
       "      <td>-4.325250e-05</td>\n",
       "    </tr>\n",
       "    <tr>\n",
       "      <th>fnlwgt</th>\n",
       "      <td>-7.608468e-02</td>\n",
       "      <td>1.000000</td>\n",
       "      <td>-0.043195</td>\n",
       "      <td>-0.002234</td>\n",
       "      <td>-0.010252</td>\n",
       "      <td>-1.804716e-02</td>\n",
       "      <td>-0.042134</td>\n",
       "      <td>-9.015193e-03</td>\n",
       "      <td>-5.769619e-03</td>\n",
       "    </tr>\n",
       "    <tr>\n",
       "      <th>education-num</th>\n",
       "      <td>3.668517e-02</td>\n",
       "      <td>-0.043195</td>\n",
       "      <td>1.000000</td>\n",
       "      <td>0.167089</td>\n",
       "      <td>0.079923</td>\n",
       "      <td>1.465533e-01</td>\n",
       "      <td>0.999182</td>\n",
       "      <td>-1.708530e-03</td>\n",
       "      <td>-5.670679e-03</td>\n",
       "    </tr>\n",
       "    <tr>\n",
       "      <th>capital-gain</th>\n",
       "      <td>1.247046e-01</td>\n",
       "      <td>-0.002234</td>\n",
       "      <td>0.167089</td>\n",
       "      <td>1.000000</td>\n",
       "      <td>-0.055138</td>\n",
       "      <td>1.009947e-01</td>\n",
       "      <td>0.168202</td>\n",
       "      <td>-5.313515e-03</td>\n",
       "      <td>4.981172e-03</td>\n",
       "    </tr>\n",
       "    <tr>\n",
       "      <th>capital-loss</th>\n",
       "      <td>5.747841e-02</td>\n",
       "      <td>-0.010252</td>\n",
       "      <td>0.079923</td>\n",
       "      <td>-0.055138</td>\n",
       "      <td>1.000000</td>\n",
       "      <td>5.420158e-02</td>\n",
       "      <td>0.080453</td>\n",
       "      <td>-7.205893e-03</td>\n",
       "      <td>-1.511760e-03</td>\n",
       "    </tr>\n",
       "    <tr>\n",
       "      <th>hours-per-week</th>\n",
       "      <td>6.657191e-02</td>\n",
       "      <td>-0.018047</td>\n",
       "      <td>0.146553</td>\n",
       "      <td>0.100995</td>\n",
       "      <td>0.054202</td>\n",
       "      <td>1.000000e+00</td>\n",
       "      <td>0.147275</td>\n",
       "      <td>2.254277e-03</td>\n",
       "      <td>7.385613e-17</td>\n",
       "    </tr>\n",
       "    <tr>\n",
       "      <th>education_years</th>\n",
       "      <td>3.854869e-02</td>\n",
       "      <td>-0.042134</td>\n",
       "      <td>0.999182</td>\n",
       "      <td>0.168202</td>\n",
       "      <td>0.080453</td>\n",
       "      <td>1.472753e-01</td>\n",
       "      <td>1.000000</td>\n",
       "      <td>-1.955584e-03</td>\n",
       "      <td>-5.811006e-03</td>\n",
       "    </tr>\n",
       "    <tr>\n",
       "      <th>age_na</th>\n",
       "      <td>7.101579e-18</td>\n",
       "      <td>-0.009015</td>\n",
       "      <td>-0.001709</td>\n",
       "      <td>-0.005314</td>\n",
       "      <td>-0.007206</td>\n",
       "      <td>2.254277e-03</td>\n",
       "      <td>-0.001956</td>\n",
       "      <td>1.000000e+00</td>\n",
       "      <td>-2.709086e-03</td>\n",
       "    </tr>\n",
       "    <tr>\n",
       "      <th>hours-per-week_na</th>\n",
       "      <td>-4.325250e-05</td>\n",
       "      <td>-0.005770</td>\n",
       "      <td>-0.005671</td>\n",
       "      <td>0.004981</td>\n",
       "      <td>-0.001512</td>\n",
       "      <td>7.385613e-17</td>\n",
       "      <td>-0.005811</td>\n",
       "      <td>-2.709086e-03</td>\n",
       "      <td>1.000000e+00</td>\n",
       "    </tr>\n",
       "  </tbody>\n",
       "</table>\n",
       "</div>"
      ],
      "text/plain": [
       "                            age    fnlwgt  education-num  capital-gain  \\\n",
       "age                1.000000e+00 -0.076085       0.036685      0.124705   \n",
       "fnlwgt            -7.608468e-02  1.000000      -0.043195     -0.002234   \n",
       "education-num      3.668517e-02 -0.043195       1.000000      0.167089   \n",
       "capital-gain       1.247046e-01 -0.002234       0.167089      1.000000   \n",
       "capital-loss       5.747841e-02 -0.010252       0.079923     -0.055138   \n",
       "hours-per-week     6.657191e-02 -0.018047       0.146553      0.100995   \n",
       "education_years    3.854869e-02 -0.042134       0.999182      0.168202   \n",
       "age_na             7.101579e-18 -0.009015      -0.001709     -0.005314   \n",
       "hours-per-week_na -4.325250e-05 -0.005770      -0.005671      0.004981   \n",
       "\n",
       "                   capital-loss  hours-per-week  education_years  \\\n",
       "age                    0.057478    6.657191e-02         0.038549   \n",
       "fnlwgt                -0.010252   -1.804716e-02        -0.042134   \n",
       "education-num          0.079923    1.465533e-01         0.999182   \n",
       "capital-gain          -0.055138    1.009947e-01         0.168202   \n",
       "capital-loss           1.000000    5.420158e-02         0.080453   \n",
       "hours-per-week         0.054202    1.000000e+00         0.147275   \n",
       "education_years        0.080453    1.472753e-01         1.000000   \n",
       "age_na                -0.007206    2.254277e-03        -0.001956   \n",
       "hours-per-week_na     -0.001512    7.385613e-17        -0.005811   \n",
       "\n",
       "                         age_na  hours-per-week_na  \n",
       "age                7.101579e-18      -4.325250e-05  \n",
       "fnlwgt            -9.015193e-03      -5.769619e-03  \n",
       "education-num     -1.708530e-03      -5.670679e-03  \n",
       "capital-gain      -5.313515e-03       4.981172e-03  \n",
       "capital-loss      -7.205893e-03      -1.511760e-03  \n",
       "hours-per-week     2.254277e-03       7.385613e-17  \n",
       "education_years   -1.955584e-03      -5.811006e-03  \n",
       "age_na             1.000000e+00      -2.709086e-03  \n",
       "hours-per-week_na -2.709086e-03       1.000000e+00  "
      ]
     },
     "execution_count": 22,
     "metadata": {},
     "output_type": "execute_result"
    }
   ],
   "source": [
    "df.corr()"
   ]
  },
  {
   "cell_type": "markdown",
   "metadata": {},
   "source": [
    "The result is a computed *correlation matrix*. The values on the diagonal are all equal to 1 because they represent the correlations between each column with itself. The matrix is symmetrical with respect to the diagonal.<br>\n",
    "\n",
    "We only need to observe correlations of all features with the column `education_years` (as opposed to every possible pairwise correlation). Se let's query the `education_years` column of this matrix:"
   ]
  },
  {
   "cell_type": "code",
   "execution_count": 23,
   "metadata": {},
   "outputs": [
    {
     "data": {
      "text/plain": [
       "age                  0.038549\n",
       "fnlwgt              -0.042134\n",
       "education-num        0.999182\n",
       "capital-gain         0.168202\n",
       "capital-loss         0.080453\n",
       "hours-per-week       0.147275\n",
       "education_years      1.000000\n",
       "age_na              -0.001956\n",
       "hours-per-week_na   -0.005811\n",
       "Name: education_years, dtype: float64"
      ]
     },
     "execution_count": 23,
     "metadata": {},
     "output_type": "execute_result"
    }
   ],
   "source": [
    "df.corr()['education_years']"
   ]
  },
  {
   "cell_type": "markdown",
   "metadata": {},
   "source": [
    "This is good, but contains two values too many: we do not need to observe the correlation of `education_years` with itself, and moreover we are not interested in the correlation between the label and `education-num` (recall that `education_years` is a winsorized version of the `education-num`). So we will exclude these two values using the Pandas `drop()` method:"
   ]
  },
  {
   "cell_type": "code",
   "execution_count": 24,
   "metadata": {},
   "outputs": [
    {
     "data": {
      "text/plain": [
       "age                  0.038549\n",
       "fnlwgt              -0.042134\n",
       "capital-gain         0.168202\n",
       "capital-loss         0.080453\n",
       "hours-per-week       0.147275\n",
       "age_na              -0.001956\n",
       "hours-per-week_na   -0.005811\n",
       "Name: education_years, dtype: float64"
      ]
     },
     "execution_count": 24,
     "metadata": {},
     "output_type": "execute_result"
    }
   ],
   "source": [
    "exclude = ['education_years','education-num']\n",
    "df.corr()['education_years'].drop(exclude, axis = 0)"
   ]
  },
  {
   "cell_type": "markdown",
   "metadata": {},
   "source": [
    "**Task**: The code below performs the same operation above, but saves the result to variable `corrs`. Sort the values in `corrs` in descending order. Use the Pandas method `sort_values()`  to accomplish this task. For more information on how to use the `sort_values()` method, consult the online [documentation](https://pandas.pydata.org/docs/reference/api/pandas.Series.sort_values.html)."
   ]
  },
  {
   "cell_type": "code",
   "execution_count": 42,
   "metadata": {},
   "outputs": [
    {
     "data": {
      "text/plain": [
       "capital-gain         0.168202\n",
       "hours-per-week       0.147275\n",
       "capital-loss         0.080453\n",
       "age                  0.038549\n",
       "age_na              -0.001956\n",
       "hours-per-week_na   -0.005811\n",
       "fnlwgt              -0.042134\n",
       "Name: education_years, dtype: float64"
      ]
     },
     "execution_count": 42,
     "metadata": {},
     "output_type": "execute_result"
    }
   ],
   "source": [
    "# Do not remove or edit the line below:\n",
    "corrs = df.corr()['education_years'].drop(exclude, axis = 0)\n",
    "\n",
    "corrs_sorted = corrs.sort_values(ascending=False)\n",
    "\n",
    "corrs_sorted"
   ]
  },
  {
   "cell_type": "markdown",
   "metadata": {},
   "source": [
    "**Task**: Use Pandas indexing to extract the *column names* for the top two correlation values and save to a Python list called `top_two_corr`. <br>\n",
    "_Tip_: `corrs_sorted` is a Pandas `Series` object, in which column names are the *index*. Once you find the column names, use the Python `list()` method to convert the values into a Python `list`."
   ]
  },
  {
   "cell_type": "code",
   "execution_count": 29,
   "metadata": {},
   "outputs": [
    {
     "data": {
      "text/plain": [
       "['capital-gain', 'hours-per-week']"
      ]
     },
     "execution_count": 29,
     "metadata": {},
     "output_type": "execute_result"
    }
   ],
   "source": [
    "top_two_corr = list(corrs_sorted.index[:2])\n",
    "\n",
    "top_two_corr"
   ]
  },
  {
   "cell_type": "markdown",
   "metadata": {},
   "source": [
    "Now that we have identified the two features that have the highest correlation with the label, let us find the correlation between both features.\n",
    "\n",
    "**Task**: Use the `corr()` method to find the correlation between the two features. Save the result to variable `corr_features`. "
   ]
  },
  {
   "cell_type": "code",
   "execution_count": 47,
   "metadata": {},
   "outputs": [
    {
     "data": {
      "text/html": [
       "<div>\n",
       "<style scoped>\n",
       "    .dataframe tbody tr th:only-of-type {\n",
       "        vertical-align: middle;\n",
       "    }\n",
       "\n",
       "    .dataframe tbody tr th {\n",
       "        vertical-align: top;\n",
       "    }\n",
       "\n",
       "    .dataframe thead th {\n",
       "        text-align: right;\n",
       "    }\n",
       "</style>\n",
       "<table border=\"1\" class=\"dataframe\">\n",
       "  <thead>\n",
       "    <tr style=\"text-align: right;\">\n",
       "      <th></th>\n",
       "      <th>capital-gain</th>\n",
       "      <th>hours-per-week</th>\n",
       "    </tr>\n",
       "  </thead>\n",
       "  <tbody>\n",
       "    <tr>\n",
       "      <th>age</th>\n",
       "      <td>0.124705</td>\n",
       "      <td>6.657191e-02</td>\n",
       "    </tr>\n",
       "    <tr>\n",
       "      <th>fnlwgt</th>\n",
       "      <td>-0.002234</td>\n",
       "      <td>-1.804716e-02</td>\n",
       "    </tr>\n",
       "    <tr>\n",
       "      <th>capital-gain</th>\n",
       "      <td>1.000000</td>\n",
       "      <td>1.009947e-01</td>\n",
       "    </tr>\n",
       "    <tr>\n",
       "      <th>capital-loss</th>\n",
       "      <td>-0.055138</td>\n",
       "      <td>5.420158e-02</td>\n",
       "    </tr>\n",
       "    <tr>\n",
       "      <th>hours-per-week</th>\n",
       "      <td>0.100995</td>\n",
       "      <td>1.000000e+00</td>\n",
       "    </tr>\n",
       "    <tr>\n",
       "      <th>age_na</th>\n",
       "      <td>-0.005314</td>\n",
       "      <td>2.254277e-03</td>\n",
       "    </tr>\n",
       "    <tr>\n",
       "      <th>hours-per-week_na</th>\n",
       "      <td>0.004981</td>\n",
       "      <td>7.385613e-17</td>\n",
       "    </tr>\n",
       "  </tbody>\n",
       "</table>\n",
       "</div>"
      ],
      "text/plain": [
       "                   capital-gain  hours-per-week\n",
       "age                    0.124705    6.657191e-02\n",
       "fnlwgt                -0.002234   -1.804716e-02\n",
       "capital-gain           1.000000    1.009947e-01\n",
       "capital-loss          -0.055138    5.420158e-02\n",
       "hours-per-week         0.100995    1.000000e+00\n",
       "age_na                -0.005314    2.254277e-03\n",
       "hours-per-week_na      0.004981    7.385613e-17"
      ]
     },
     "execution_count": 47,
     "metadata": {},
     "output_type": "execute_result"
    }
   ],
   "source": [
    "corr_features = df.corr()[top_two_corr].drop(exclude, axis = 0)\n",
    "\n",
    "\n",
    "corr_features\n"
   ]
  },
  {
   "cell_type": "markdown",
   "metadata": {},
   "source": [
    "#### Bivariate Plotting: Produce Plots for the Label and Its Top Correlates\n",
    "\n",
    "Let us visualize our data."
   ]
  },
  {
   "cell_type": "markdown",
   "metadata": {},
   "source": [
    "We will use the `scatterplot()` function in `seaborn` to plot the relationships between the two features we just identified and the label. For more information about the function, consult the online [documentation](https://seaborn.pydata.org/generated/seaborn.scatterplot.html)."
   ]
  },
  {
   "cell_type": "markdown",
   "metadata": {},
   "source": [
    "We will create a DataFrame named ` df_corr1` that contains two columns from DataFrame `df`: the label, and the first of the two columns which correlate with it the most:"
   ]
  },
  {
   "cell_type": "code",
   "execution_count": 48,
   "metadata": {
    "scrolled": true
   },
   "outputs": [
    {
     "data": {
      "text/html": [
       "<div>\n",
       "<style scoped>\n",
       "    .dataframe tbody tr th:only-of-type {\n",
       "        vertical-align: middle;\n",
       "    }\n",
       "\n",
       "    .dataframe tbody tr th {\n",
       "        vertical-align: top;\n",
       "    }\n",
       "\n",
       "    .dataframe thead th {\n",
       "        text-align: right;\n",
       "    }\n",
       "</style>\n",
       "<table border=\"1\" class=\"dataframe\">\n",
       "  <thead>\n",
       "    <tr style=\"text-align: right;\">\n",
       "      <th></th>\n",
       "      <th>hours per week</th>\n",
       "      <th>education_years</th>\n",
       "    </tr>\n",
       "  </thead>\n",
       "  <tbody>\n",
       "    <tr>\n",
       "      <th>0</th>\n",
       "      <td>40.0</td>\n",
       "      <td>13</td>\n",
       "    </tr>\n",
       "    <tr>\n",
       "      <th>1</th>\n",
       "      <td>13.0</td>\n",
       "      <td>13</td>\n",
       "    </tr>\n",
       "    <tr>\n",
       "      <th>2</th>\n",
       "      <td>40.0</td>\n",
       "      <td>9</td>\n",
       "    </tr>\n",
       "    <tr>\n",
       "      <th>3</th>\n",
       "      <td>40.0</td>\n",
       "      <td>7</td>\n",
       "    </tr>\n",
       "    <tr>\n",
       "      <th>4</th>\n",
       "      <td>40.0</td>\n",
       "      <td>13</td>\n",
       "    </tr>\n",
       "    <tr>\n",
       "      <th>...</th>\n",
       "      <td>...</td>\n",
       "      <td>...</td>\n",
       "    </tr>\n",
       "    <tr>\n",
       "      <th>32556</th>\n",
       "      <td>38.0</td>\n",
       "      <td>12</td>\n",
       "    </tr>\n",
       "    <tr>\n",
       "      <th>32557</th>\n",
       "      <td>40.0</td>\n",
       "      <td>9</td>\n",
       "    </tr>\n",
       "    <tr>\n",
       "      <th>32558</th>\n",
       "      <td>40.0</td>\n",
       "      <td>9</td>\n",
       "    </tr>\n",
       "    <tr>\n",
       "      <th>32559</th>\n",
       "      <td>20.0</td>\n",
       "      <td>9</td>\n",
       "    </tr>\n",
       "    <tr>\n",
       "      <th>32560</th>\n",
       "      <td>40.0</td>\n",
       "      <td>9</td>\n",
       "    </tr>\n",
       "  </tbody>\n",
       "</table>\n",
       "<p>32561 rows × 2 columns</p>\n",
       "</div>"
      ],
      "text/plain": [
       "       hours per week  education_years\n",
       "0                40.0               13\n",
       "1                13.0               13\n",
       "2                40.0                9\n",
       "3                40.0                7\n",
       "4                40.0               13\n",
       "...               ...              ...\n",
       "32556            38.0               12\n",
       "32557            40.0                9\n",
       "32558            40.0                9\n",
       "32559            20.0                9\n",
       "32560            40.0                9\n",
       "\n",
       "[32561 rows x 2 columns]"
      ]
     },
     "execution_count": 48,
     "metadata": {},
     "output_type": "execute_result"
    }
   ],
   "source": [
    "df_corr1 = pd.DataFrame({'hours per week': df['hours-per-week'], 'education_years': df['education_years']})\n",
    "df_corr1"
   ]
  },
  {
   "cell_type": "markdown",
   "metadata": {},
   "source": [
    "<b>Task</b>: Create a `seaborn` scatterplot of the new DataFrame that you just created. Since our DataFrame has thousands of rows, only plot the first 50 rows to better visualize the data."
   ]
  },
  {
   "cell_type": "code",
   "execution_count": 49,
   "metadata": {},
   "outputs": [
    {
     "data": {
      "text/plain": [
       "<AxesSubplot:xlabel='hours per week', ylabel='education_years'>"
      ]
     },
     "execution_count": 49,
     "metadata": {},
     "output_type": "execute_result"
    },
    {
     "data": {
      "image/png": "[encoded data removed]",
      "text/plain": [
       "<Figure size 432x288 with 1 Axes>"
      ]
     },
     "metadata": {
      "needs_background": "light"
     },
     "output_type": "display_data"
    }
   ],
   "source": [
    "sns.scatterplot(data=df_corr1.head(50), x='hours per week', y='education_years')"
   ]
  },
  {
   "cell_type": "markdown",
   "metadata": {},
   "source": [
    "**Task**: Now create a DataFrame named ` df_corr2` that contains two columns from DataFrame `df`: the label, and the second of the two columns which correlate with it the most. "
   ]
  },
  {
   "cell_type": "code",
   "execution_count": 50,
   "metadata": {},
   "outputs": [
    {
     "data": {
      "text/html": [
       "<div>\n",
       "<style scoped>\n",
       "    .dataframe tbody tr th:only-of-type {\n",
       "        vertical-align: middle;\n",
       "    }\n",
       "\n",
       "    .dataframe tbody tr th {\n",
       "        vertical-align: top;\n",
       "    }\n",
       "\n",
       "    .dataframe thead th {\n",
       "        text-align: right;\n",
       "    }\n",
       "</style>\n",
       "<table border=\"1\" class=\"dataframe\">\n",
       "  <thead>\n",
       "    <tr style=\"text-align: right;\">\n",
       "      <th></th>\n",
       "      <th>capital-gain</th>\n",
       "      <th>education_years</th>\n",
       "    </tr>\n",
       "  </thead>\n",
       "  <tbody>\n",
       "    <tr>\n",
       "      <th>0</th>\n",
       "      <td>2174</td>\n",
       "      <td>13</td>\n",
       "    </tr>\n",
       "    <tr>\n",
       "      <th>1</th>\n",
       "      <td>0</td>\n",
       "      <td>13</td>\n",
       "    </tr>\n",
       "    <tr>\n",
       "      <th>2</th>\n",
       "      <td>0</td>\n",
       "      <td>9</td>\n",
       "    </tr>\n",
       "    <tr>\n",
       "      <th>3</th>\n",
       "      <td>0</td>\n",
       "      <td>7</td>\n",
       "    </tr>\n",
       "    <tr>\n",
       "      <th>4</th>\n",
       "      <td>0</td>\n",
       "      <td>13</td>\n",
       "    </tr>\n",
       "    <tr>\n",
       "      <th>...</th>\n",
       "      <td>...</td>\n",
       "      <td>...</td>\n",
       "    </tr>\n",
       "    <tr>\n",
       "      <th>32556</th>\n",
       "      <td>0</td>\n",
       "      <td>12</td>\n",
       "    </tr>\n",
       "    <tr>\n",
       "      <th>32557</th>\n",
       "      <td>0</td>\n",
       "      <td>9</td>\n",
       "    </tr>\n",
       "    <tr>\n",
       "      <th>32558</th>\n",
       "      <td>0</td>\n",
       "      <td>9</td>\n",
       "    </tr>\n",
       "    <tr>\n",
       "      <th>32559</th>\n",
       "      <td>0</td>\n",
       "      <td>9</td>\n",
       "    </tr>\n",
       "    <tr>\n",
       "      <th>32560</th>\n",
       "      <td>14084</td>\n",
       "      <td>9</td>\n",
       "    </tr>\n",
       "  </tbody>\n",
       "</table>\n",
       "<p>32561 rows × 2 columns</p>\n",
       "</div>"
      ],
      "text/plain": [
       "       capital-gain  education_years\n",
       "0              2174               13\n",
       "1                 0               13\n",
       "2                 0                9\n",
       "3                 0                7\n",
       "4                 0               13\n",
       "...             ...              ...\n",
       "32556             0               12\n",
       "32557             0                9\n",
       "32558             0                9\n",
       "32559             0                9\n",
       "32560         14084                9\n",
       "\n",
       "[32561 rows x 2 columns]"
      ]
     },
     "execution_count": 50,
     "metadata": {},
     "output_type": "execute_result"
    }
   ],
   "source": [
    "df_corr2 = pd.DataFrame({'capital-gain': df['capital-gain'], 'education_years': df['education_years']})\n",
    "\n",
    "df_corr2"
   ]
  },
  {
   "cell_type": "markdown",
   "metadata": {},
   "source": [
    "<b>Task</b>: Create a `seaborn` scatterplot of the new DataFrame that you just created. Once again, only plot the first 50 rows to better visualize the data."
   ]
  },
  {
   "cell_type": "code",
   "execution_count": 51,
   "metadata": {},
   "outputs": [
    {
     "data": {
      "text/plain": [
       "<AxesSubplot:xlabel='capital-gain', ylabel='education_years'>"
      ]
     },
     "execution_count": 51,
     "metadata": {},
     "output_type": "execute_result"
    },
    {
     "data": {
      "image/png": "[encoded data removed]",
      "text/plain": [
       "<Figure size 432x288 with 1 Axes>"
      ]
     },
     "metadata": {
      "needs_background": "light"
     },
     "output_type": "display_data"
    }
   ],
   "source": [
    "sns.scatterplot(data=df_corr2.head(50), x='capital-gain', y='education_years')"
   ]
  },
  {
   "cell_type": "markdown",
   "metadata": {},
   "source": [
    "**Task**: Now let's visualize the correlation between both features. Create a DataFrame named ` df_corr3` that contains two columns from DataFrame `df`: the two feature columns that correlate most with the label. "
   ]
  },
  {
   "cell_type": "code",
   "execution_count": 52,
   "metadata": {},
   "outputs": [
    {
     "data": {
      "text/html": [
       "<div>\n",
       "<style scoped>\n",
       "    .dataframe tbody tr th:only-of-type {\n",
       "        vertical-align: middle;\n",
       "    }\n",
       "\n",
       "    .dataframe tbody tr th {\n",
       "        vertical-align: top;\n",
       "    }\n",
       "\n",
       "    .dataframe thead th {\n",
       "        text-align: right;\n",
       "    }\n",
       "</style>\n",
       "<table border=\"1\" class=\"dataframe\">\n",
       "  <thead>\n",
       "    <tr style=\"text-align: right;\">\n",
       "      <th></th>\n",
       "      <th>capital-gain</th>\n",
       "      <th>hours per week</th>\n",
       "    </tr>\n",
       "  </thead>\n",
       "  <tbody>\n",
       "    <tr>\n",
       "      <th>0</th>\n",
       "      <td>2174</td>\n",
       "      <td>40.0</td>\n",
       "    </tr>\n",
       "    <tr>\n",
       "      <th>1</th>\n",
       "      <td>0</td>\n",
       "      <td>13.0</td>\n",
       "    </tr>\n",
       "    <tr>\n",
       "      <th>2</th>\n",
       "      <td>0</td>\n",
       "      <td>40.0</td>\n",
       "    </tr>\n",
       "    <tr>\n",
       "      <th>3</th>\n",
       "      <td>0</td>\n",
       "      <td>40.0</td>\n",
       "    </tr>\n",
       "    <tr>\n",
       "      <th>4</th>\n",
       "      <td>0</td>\n",
       "      <td>40.0</td>\n",
       "    </tr>\n",
       "    <tr>\n",
       "      <th>...</th>\n",
       "      <td>...</td>\n",
       "      <td>...</td>\n",
       "    </tr>\n",
       "    <tr>\n",
       "      <th>32556</th>\n",
       "      <td>0</td>\n",
       "      <td>38.0</td>\n",
       "    </tr>\n",
       "    <tr>\n",
       "      <th>32557</th>\n",
       "      <td>0</td>\n",
       "      <td>40.0</td>\n",
       "    </tr>\n",
       "    <tr>\n",
       "      <th>32558</th>\n",
       "      <td>0</td>\n",
       "      <td>40.0</td>\n",
       "    </tr>\n",
       "    <tr>\n",
       "      <th>32559</th>\n",
       "      <td>0</td>\n",
       "      <td>20.0</td>\n",
       "    </tr>\n",
       "    <tr>\n",
       "      <th>32560</th>\n",
       "      <td>14084</td>\n",
       "      <td>40.0</td>\n",
       "    </tr>\n",
       "  </tbody>\n",
       "</table>\n",
       "<p>32561 rows × 2 columns</p>\n",
       "</div>"
      ],
      "text/plain": [
       "       capital-gain  hours per week\n",
       "0              2174            40.0\n",
       "1                 0            13.0\n",
       "2                 0            40.0\n",
       "3                 0            40.0\n",
       "4                 0            40.0\n",
       "...             ...             ...\n",
       "32556             0            38.0\n",
       "32557             0            40.0\n",
       "32558             0            40.0\n",
       "32559             0            20.0\n",
       "32560         14084            40.0\n",
       "\n",
       "[32561 rows x 2 columns]"
      ]
     },
     "execution_count": 52,
     "metadata": {},
     "output_type": "execute_result"
    }
   ],
   "source": [
    "df_corr3 = pd.DataFrame({'capital-gain': df['capital-gain'], 'hours per week': df['hours-per-week']})\n",
    "\n",
    "df_corr3"
   ]
  },
  {
   "cell_type": "markdown",
   "metadata": {},
   "source": [
    "<b>Task</b>: Create a `seaborn` scatterplot of the new DataFrame that you just created. One again, only plot the first 50 rows to better visualize the data."
   ]
  },
  {
   "cell_type": "code",
   "execution_count": 54,
   "metadata": {},
   "outputs": [
    {
     "data": {
      "text/plain": [
       "<AxesSubplot:xlabel='capital-gain', ylabel='hours per week'>"
      ]
     },
     "execution_count": 54,
     "metadata": {},
     "output_type": "execute_result"
    },
    {
     "data": {
      "image/png": "[encoded data removed]",
      "text/plain": [
       "<Figure size 432x288 with 1 Axes>"
      ]
     },
     "metadata": {
      "needs_background": "light"
     },
     "output_type": "display_data"
    }
   ],
   "source": [
    "sns.scatterplot(data=df_corr3.head(50), x='capital-gain', y='hours per week')"
   ]
  },
  {
   "cell_type": "markdown",
   "metadata": {},
   "source": [
    "So far we have been visualizing a subset of the data. Let's now create a visualization of all of the data.\n",
    "\n",
    "**Task**: Create a DataFrame named ` df_corrs` that contains these three columns from DataFrame `df`: the label, and the two columns which correlate with it the most.\n"
   ]
  },
  {
   "cell_type": "code",
   "execution_count": 55,
   "metadata": {
    "scrolled": true
   },
   "outputs": [
    {
     "data": {
      "text/html": [
       "<div>\n",
       "<style scoped>\n",
       "    .dataframe tbody tr th:only-of-type {\n",
       "        vertical-align: middle;\n",
       "    }\n",
       "\n",
       "    .dataframe tbody tr th {\n",
       "        vertical-align: top;\n",
       "    }\n",
       "\n",
       "    .dataframe thead th {\n",
       "        text-align: right;\n",
       "    }\n",
       "</style>\n",
       "<table border=\"1\" class=\"dataframe\">\n",
       "  <thead>\n",
       "    <tr style=\"text-align: right;\">\n",
       "      <th></th>\n",
       "      <th>capital-gain</th>\n",
       "      <th>hours per week</th>\n",
       "      <th>education_years</th>\n",
       "    </tr>\n",
       "  </thead>\n",
       "  <tbody>\n",
       "    <tr>\n",
       "      <th>0</th>\n",
       "      <td>2174</td>\n",
       "      <td>40.0</td>\n",
       "      <td>13</td>\n",
       "    </tr>\n",
       "    <tr>\n",
       "      <th>1</th>\n",
       "      <td>0</td>\n",
       "      <td>13.0</td>\n",
       "      <td>13</td>\n",
       "    </tr>\n",
       "    <tr>\n",
       "      <th>2</th>\n",
       "      <td>0</td>\n",
       "      <td>40.0</td>\n",
       "      <td>9</td>\n",
       "    </tr>\n",
       "    <tr>\n",
       "      <th>3</th>\n",
       "      <td>0</td>\n",
       "      <td>40.0</td>\n",
       "      <td>7</td>\n",
       "    </tr>\n",
       "    <tr>\n",
       "      <th>4</th>\n",
       "      <td>0</td>\n",
       "      <td>40.0</td>\n",
       "      <td>13</td>\n",
       "    </tr>\n",
       "    <tr>\n",
       "      <th>...</th>\n",
       "      <td>...</td>\n",
       "      <td>...</td>\n",
       "      <td>...</td>\n",
       "    </tr>\n",
       "    <tr>\n",
       "      <th>32556</th>\n",
       "      <td>0</td>\n",
       "      <td>38.0</td>\n",
       "      <td>12</td>\n",
       "    </tr>\n",
       "    <tr>\n",
       "      <th>32557</th>\n",
       "      <td>0</td>\n",
       "      <td>40.0</td>\n",
       "      <td>9</td>\n",
       "    </tr>\n",
       "    <tr>\n",
       "      <th>32558</th>\n",
       "      <td>0</td>\n",
       "      <td>40.0</td>\n",
       "      <td>9</td>\n",
       "    </tr>\n",
       "    <tr>\n",
       "      <th>32559</th>\n",
       "      <td>0</td>\n",
       "      <td>20.0</td>\n",
       "      <td>9</td>\n",
       "    </tr>\n",
       "    <tr>\n",
       "      <th>32560</th>\n",
       "      <td>14084</td>\n",
       "      <td>40.0</td>\n",
       "      <td>9</td>\n",
       "    </tr>\n",
       "  </tbody>\n",
       "</table>\n",
       "<p>32561 rows × 3 columns</p>\n",
       "</div>"
      ],
      "text/plain": [
       "       capital-gain  hours per week  education_years\n",
       "0              2174            40.0               13\n",
       "1                 0            13.0               13\n",
       "2                 0            40.0                9\n",
       "3                 0            40.0                7\n",
       "4                 0            40.0               13\n",
       "...             ...             ...              ...\n",
       "32556             0            38.0               12\n",
       "32557             0            40.0                9\n",
       "32558             0            40.0                9\n",
       "32559             0            20.0                9\n",
       "32560         14084            40.0                9\n",
       "\n",
       "[32561 rows x 3 columns]"
      ]
     },
     "execution_count": 55,
     "metadata": {},
     "output_type": "execute_result"
    }
   ],
   "source": [
    "df_corrs = pd.DataFrame({'capital-gain': df['capital-gain'], 'hours per week': df['hours-per-week'], 'education_years': df['education_years']})\n",
    "\n",
    "df_corrs"
   ]
  },
  {
   "cell_type": "markdown",
   "metadata": {},
   "source": [
    "We will use the `pairplot()` function in `seaborn` to plot the data in `df_corrs`. For more information about the function, consult the online [documentation](https://seaborn.pydata.org/generated/seaborn.pairplot.html).\n",
    "\n",
    "<b>Task</b>: To better visualize the data and prevent overlapping of data points, call the `pairplot()` function with the following parameters:\n",
    "* Use `kind = 'kde'` to specify the *kernel density estimator* as the *kind* of the plot.\n",
    "* Use `corner=True` to make sure you don't plot redundant (symmetrical) plots.\n",
    "\n",
    "Note: This will take a few minutes to run and produce a plot."
   ]
  },
  {
   "cell_type": "code",
   "execution_count": 56,
   "metadata": {},
   "outputs": [
    {
     "data": {
      "text/plain": [
       "<seaborn.axisgrid.PairGrid at 0x7585d21d5f28>"
      ]
     },
     "execution_count": 56,
     "metadata": {},
     "output_type": "execute_result"
    },
    {
     "data": {
      "image/png": "[encoded data removed]",
      "text/plain": [
       "<Figure size 540x540 with 9 Axes>"
      ]
     },
     "metadata": {
      "needs_background": "light"
     },
     "output_type": "display_data"
    }
   ],
   "source": [
    "sns.pairplot(df_corrs, kind='kde', corner=True)"
   ]
  },
  {
   "cell_type": "markdown",
   "metadata": {},
   "source": [
    "Think about the possible interpretations of this plot. Here is an example of the kind of stories this data seems to be telling. It appears as though hours per week are stacked around the typical 40-hour value, and that this value of weekly hours dominates regardless of the level of education. However, it seems that it is somewhat less typical for people with lower levels of formal education to be working over 65 hours a week."
   ]
  },
  {
   "cell_type": "markdown",
   "metadata": {},
   "source": [
    "## Part 4. Analysis\n",
    "\n",
    "1. Based on what you have learned in this unit, try to interpret what you have discovered about the relationships between the features and the label in this exercise. Are the top two correlated features strongly or weakly correlated with the label? What about the remaining features? Are the two features strongly or weakly correlated with each other? Based on these answers, do these features seem appropriate to use for our machine learning problem? Are there other considerations that should be taken when selecting features for this problem (e.g. selecting different data, removing/adding features)?\n",
    "\n",
    "2. Inspect the data in your data matrix. Describe other feature engineering techniques that should be used to make the data suitable for modeling.\n",
    "\n",
    "Record your findings in the cell below."
   ]
  },
  {
   "cell_type": "markdown",
   "metadata": {},
   "source": [
    "The top two features 'capital gain' and 'hours per week' are both weakly correlated with the label 'education years' and each other. The remaining features are likely to be even weaker according to the correlation function. These features do not seem appropriate for predicting the label 'education years.' I think removing features with low variance should be considered. \n",
    "\n",
    "Binning education years into smaller categories and normalizing 'capital gain' and other larger scale features could be used to make the data more suitable for modeling. "
   ]
  }
 ],
 "metadata": {
  "kernelspec": {
   "display_name": "Python 3",
   "language": "python",
   "name": "python3"
  },
  "language_info": {
   "codemirror_mode": {
    "name": "ipython",
    "version": 3
   },
   "file_extension": ".py",
   "mimetype": "text/x-python",
   "name": "python",
   "nbconvert_exporter": "python",
   "pygments_lexer": "ipython3",
   "version": "3.6.9"
  },
  "toc": {
   "base_numbering": 1,
   "nav_menu": {},
   "number_sections": false,
   "sideBar": true,
   "skip_h1_title": false,
   "title_cell": "Table of Contents",
   "title_sidebar": "Contents",
   "toc_cell": false,
   "toc_position": {},
   "toc_section_display": true,
   "toc_window_display": false
  },
  "varInspector": {
   "cols": {
    "lenName": 16,
    "lenType": 16,
    "lenVar": 40
   },
   "kernels_config": {
    "python": {
     "delete_cmd_postfix": "",
     "delete_cmd_prefix": "del ",
     "library": "var_list.py",
     "varRefreshCmd": "print(var_dic_list())"
    },
    "r": {
     "delete_cmd_postfix": ") ",
     "delete_cmd_prefix": "rm(",
     "library": "var_list.r",
     "varRefreshCmd": "cat(var_dic_list()) "
    }
   },
   "types_to_exclude": [
    "module",
    "function",
    "builtin_function_or_method",
    "instance",
    "_Feature"
   ],
   "window_display": false
  }
 },
 "nbformat": 4,
 "nbformat_minor": 2
}
